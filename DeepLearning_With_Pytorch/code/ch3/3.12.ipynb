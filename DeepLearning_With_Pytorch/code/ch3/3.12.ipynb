{
 "cells": [
  {
   "cell_type": "markdown",
   "metadata": {},
   "source": [
    "## 3.12 序列化张量"
   ]
  },
  {
   "cell_type": "code",
   "execution_count": 40,
   "metadata": {},
   "outputs": [],
   "source": [
    "import torch\n",
    "points = torch.tensor([[4.0, 1.0], [5.0, 3.0], [2.0, 1.0]])"
   ]
  },
  {
   "cell_type": "code",
   "execution_count": 41,
   "metadata": {},
   "outputs": [],
   "source": [
    "torch.save(points, '../../data/plch3/ourpoints.t')"
   ]
  },
  {
   "cell_type": "code",
   "execution_count": 42,
   "metadata": {},
   "outputs": [],
   "source": [
    "with open('../../data/plch3/ourpoints.t', 'wb') as f:\n",
    "    torch.save(points, f)"
   ]
  },
  {
   "cell_type": "code",
   "execution_count": 43,
   "metadata": {},
   "outputs": [
    {
     "data": {
      "text/plain": [
       "tensor([[4., 1.],\n",
       "        [5., 3.],\n",
       "        [2., 1.]])"
      ]
     },
     "execution_count": 43,
     "metadata": {},
     "output_type": "execute_result"
    }
   ],
   "source": [
    "points = torch.load('../../data/plch3/ourpoints.t')\n",
    "points"
   ]
  },
  {
   "cell_type": "code",
   "execution_count": 44,
   "metadata": {},
   "outputs": [
    {
     "data": {
      "text/plain": [
       "tensor([[4., 1.],\n",
       "        [5., 3.],\n",
       "        [2., 1.]])"
      ]
     },
     "execution_count": 44,
     "metadata": {},
     "output_type": "execute_result"
    }
   ],
   "source": [
    "with open('../../data/plch3/ourpoints.t', 'rb') as f:\n",
    "    points = torch.load(f)\n",
    "points"
   ]
  },
  {
   "cell_type": "markdown",
   "metadata": {},
   "source": [
    "### 用h5py序列化到HDF5"
   ]
  },
  {
   "cell_type": "code",
   "execution_count": 45,
   "metadata": {},
   "outputs": [
    {
     "name": "stdout",
     "output_type": "stream",
     "text": [
      "Collecting package metadata (current_repodata.json): done\n",
      "Solving environment: | \n",
      "Warning: >10 possible package resolutions (only showing differing packages):\n",
      "  - https://repo.anaconda.com/pkgs/main/linux-64/linux-64::bzip2-1.0.8-h7b6447c_0, https://repo.anaconda.com/pkgs/main/linux-64/linux-64::libuuid-1.41.5-h5eee18b_0, https://repo.anaconda.com/pkgs/main/noarch/noarch::jsonpointer-2.1-pyhd3eb1b0_0, https://repo.anaconda.com/pkgs/main/noarch/noarch::tzdata-2023c-h04d1e81_0\n",
      "  - defaults/noarch::tzdata-2023c-h04d1e81_0, https://repo.anaconda.com/pkgs/main/linux-64/linux-64::bzip2-1.0.8-h7b6447c_0, https://repo.anaconda.com/pkgs/main/linux-64/linux-64::libuuid-1.41.5-h5eee18b_0, https://repo.anaconda.com/pkgs/main/noarch/noarch::jsonpointer-2.1-pyhd3eb1b0_0\n",
      "  - defaults/linux-64::bzip2-1.0.8-h7b6447c_0, https://repo.anaconda.com/pkgs/main/linux-64/linux-64::libuuid-1.41.5-h5eee18b_0, https://repo.anaconda.com/pkgs/main/noarch/noarch::jsonpointer-2.1-pyhd3eb1b0_0, https://repo.anaconda.com/pkgs/main/noarch/noarch::tzdata-2023c-h04d1e81_0\n",
      "  - defaults/linux-64::bzip2-1.0.8-h7b6447c_0, defaults/noarch::tzdata-2023c-h04d1e81_0, https://repo.anaconda.com/pkgs/main/linux-64/linux-64::libuuid-1.41.5-h5eee18b_0, https://repo.anaconda.com/pkgs/main/noarch/noarch::jsonpointer-2.1-pyhd3eb1b0_0\n",
      "  - defaults/linux-64::bzip2-1.0.8-h7b6447c_0, defaults/linux-64::libuuid-1.41.5-h5eee18b_0, https://repo.anaconda.com/pkgs/main/noarch/noarch::jsonpointer-2.1-pyhd3eb1b0_0, https://repo.anaconda.com/pkgs/main/noarch/noarch::tzdata-2023c-h04d1e81_0\n",
      "  - defaults/linux-64::bzip2-1.0.8-h7b6447c_0, defaults/linux-64::libuuid-1.41.5-h5eee18b_0, defaults/noarch::tzdata-2023c-h04d1e81_0, https://repo.anaconda.com/pkgs/main/noarch/noarch::jsonpointer-2.1-pyhd3eb1b0_0\n",
      "  - defaults/linux-64::libuuid-1.41.5-h5eee18b_0, https://repo.anaconda.com/pkgs/main/linux-64/linux-64::bzip2-1.0.8-h7b6447c_0, https://repo.anaconda.com/pkgs/main/noarch/noarch::jsonpointer-2.1-pyhd3eb1b0_0, https://repo.anaconda.com/pkgs/main/noarch/noarch::tzdata-2023c-h04d1e81_0\n",
      "  - defaults/linux-64::libuuid-1.41.5-h5eee18b_0, defaults/noarch::tzdata-2023c-h04d1e81_0, https://repo.anaconda.com/pkgs/main/linux-64/linux-64::bzip2-1.0.8-h7b6447c_0, https://repo.anaconda.com/pkgs/main/noarch/noarch::jsonpointer-2.1-pyhd3eb1b0_0\n",
      "  - defaults/linux-64::libuuid-1.41.5-h5eee18b_0, defaults/noarch::jsonpointer-2.1-pyhd3eb1b0_0, https://repo.anaconda.com/pkgs/main/linux-64/linux-64::bzip2-1.0.8-h7b6447c_0, https://repo.anaconda.com/pkgs/main/noarch/noarch::tzdata-2023c-h04d1e81_0\n",
      "  - defaults/noarch::jsonpointer-2.1-pyhd3eb1b0_0, https://repo.anaconda.com/pkgs/main/linux-64/linux-64::bzip2-1.0.8-h7b6447c_0, https://repo.anaconda.com/pkgs/main/linux-64/linux-64::libuuid-1.41.5-h5eee18b_0, https://repo.anaconda.com/pkgs/main/noarch/noarch::tzdata-2023c-h04d1e81_0\n",
      "  ... and othedone\n",
      "\n",
      "# All requested packages already installed.\n",
      "\n",
      "\n",
      "Note: you may need to restart the kernel to use updated packages.\n"
     ]
    }
   ],
   "source": [
    "conda install h5py"
   ]
  },
  {
   "cell_type": "code",
   "execution_count": 46,
   "metadata": {},
   "outputs": [],
   "source": [
    "import h5py\n",
    "\n",
    "f = h5py.File('../../data/plch3/ourpoints.hdf5', 'w')\n",
    "dset = f.create_dataset('coords', data=points.numpy())\n",
    "f.close()"
   ]
  },
  {
   "cell_type": "code",
   "execution_count": 49,
   "metadata": {},
   "outputs": [
    {
     "data": {
      "text/plain": [
       "array([[5., 3.],\n",
       "       [2., 1.]], dtype=float32)"
      ]
     },
     "execution_count": 49,
     "metadata": {},
     "output_type": "execute_result"
    }
   ],
   "source": [
    "f = h5py.File('../../data/plch3/ourpoints.hdf5', 'r')\n",
    "dset = f['coords']\n",
    "last_points = dset[-2:]\n",
    "last_points"
   ]
  },
  {
   "cell_type": "code",
   "execution_count": 50,
   "metadata": {},
   "outputs": [
    {
     "data": {
      "text/plain": [
       "tensor([[5., 3.],\n",
       "        [2., 1.]])"
      ]
     },
     "execution_count": 50,
     "metadata": {},
     "output_type": "execute_result"
    }
   ],
   "source": [
    "last_points = torch.from_numpy(dset[-2:])\n",
    "f.close()\n",
    "last_points"
   ]
  }
 ],
 "metadata": {
  "kernelspec": {
   "display_name": "Python 3 (ipykernel)",
   "language": "python",
   "name": "python3"
  },
  "orig_nbformat": 4
 },
 "nbformat": 4,
 "nbformat_minor": 2
}
