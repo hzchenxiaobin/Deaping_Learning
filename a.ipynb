{
 "cells": [
  {
   "cell_type": "markdown",
   "metadata": {},
   "source": [
    "###### **本文主要解析LeetCode在2023年8月13日10:30组织的第【358】场周赛题目，**[**竞赛链接**](https://leetcode-cn.com/contest/weekly-contest-358)**。**"
   ]
  },
  {
   "cell_type": "markdown",
   "metadata": {},
   "source": [
    "---\n",
    "\n",
    "### 题目一、[数组中的最大数对和](https://leetcode.cn/contest/weekly-contest-358/problems/max-pair-sum-in-an-array/)【简单】\n",
    "\n",
    "#### 题目描述\n",
    "\n",
    "给你一个下标从 **0** 开始的整数数组 `nums` 。请你从 `nums` 中找出和 **最大** 的一对数，且这两个数数位上最大的数字相等。\n",
    "\n",
    "返回最大和，如果不存在满足题意的数字对，返回 `-1` *。*\n",
    "\n",
    " \n",
    "\n",
    "**示例 1：**\n",
    "\n",
    "```\n",
    "输入：nums = [51,71,17,24,42]\n",
    "输出：88\n",
    "解释：\n",
    "i = 1 和 j = 2 ，nums[i] 和 nums[j] 数位上最大的数字相等，且这一对的总和 71 + 17 = 88 。 \n",
    "i = 3 和 j = 4 ，nums[i] 和 nums[j] 数位上最大的数字相等，且这一对的总和 24 + 42 = 66 。\n",
    "可以证明不存在其他数对满足数位上最大的数字相等，所以答案是 88 。\n",
    "```\n",
    "\n",
    "**示例 2：**\n",
    "\n",
    "```\n",
    "输入：nums = [1,2,3,4]\n",
    "输出：-1\n",
    "解释：不存在数对满足数位上最大的数字相等。\n",
    "```\n",
    "\n",
    " \n",
    "\n",
    "**提示：**\n",
    "\n",
    "- `2 <= nums.length <= 100`\n",
    "- `1 <= nums[i] <= 10^4`\n",
    "\n",
    "#### 分析\n",
    "\n",
    "数据量比较小，直接for循环模拟即可\n"
   ]
  },
  {
   "cell_type": "code",
   "execution_count": 1,
   "metadata": {},
   "outputs": [
    {
     "name": "stdout",
     "output_type": "stream",
     "text": [
      "ssss\n"
     ]
    }
   ],
   "source": [
    "print(\"ssss\")"
   ]
  }
 ],
 "metadata": {
  "kernelspec": {
   "display_name": "Python 3 (ipykernel)",
   "language": "python",
   "name": "python3"
  },
  "language_info": {
   "codemirror_mode": {
    "name": "ipython",
    "version": 3
   },
   "file_extension": ".py",
   "mimetype": "text/x-python",
   "name": "python",
   "nbconvert_exporter": "python",
   "pygments_lexer": "ipython3",
   "version": "3.8.10"
  },
  "orig_nbformat": 4
 },
 "nbformat": 4,
 "nbformat_minor": 2
}
